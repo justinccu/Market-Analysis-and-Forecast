{
 "cells": [
  {
   "cell_type": "markdown",
   "id": "276b2ad3",
   "metadata": {},
   "source": [
    "# Market Analysis: Problem Set 1"
   ]
  },
  {
   "cell_type": "markdown",
   "id": "418da8e6",
   "metadata": {},
   "source": [
    "The data set **chile.dta** is a Stata file containing a panel of Chilean firms from the annual\n",
    "manufacturing census Encuesta Nacional Industrial Anual (ENIA) run by Chile’s national\n",
    "statistical institute, Instituto Nacional de Estadisticas (INE). The panel covers the period\n",
    "1979–1996 and only includes data for firms in the food industry (CIIU code 311). Each\n",
    "observation is a year-firm combination. The data have already been cleaned up and the\n",
    "relevant variables constructed."
   ]
  },
  {
   "cell_type": "markdown",
   "id": "8638a2d5",
   "metadata": {},
   "source": [
    "The data includes: gross output, labor, capital stock, energy inputs, material inputs, and\n",
    "investment. All variables except labor are measured in 1985 Chilean pesos. Labor is\n",
    "a wage-weighted aggregate of white- and blue-collar employees measured in blue-collar\n",
    "person-year equivalents. In addition, a firm id and year are included."
   ]
  },
  {
   "cell_type": "markdown",
   "id": "0acc5dda",
   "metadata": {},
   "source": [
    "**Submission guidelines:**  \n",
    "\n",
    "1. Submission requires downloading and saving your ipynb file as .html file with the filename, studentID-studentName. For example, 407510073-束良鴻.\n",
    "2. Removing all irrelevant code blocks.\n",
    "3. Email the html file to your TA. (E-mail address: p4896p4896@gmail.com)\n",
    "4. Failing to submit in a correct format will result in a reduction of **20 points**. \n",
    "5. Deadline: 4/7 Thur. 2 p.m. \n",
    "6. No late submission will be accepted. "
   ]
  },
  {
   "cell_type": "markdown",
   "id": "299954b2",
   "metadata": {},
   "source": [
    "You need to run the following code block first to import necessary packages.  "
   ]
  },
  {
   "cell_type": "code",
   "execution_count": 1,
   "id": "d2462f58",
   "metadata": {},
   "outputs": [],
   "source": [
    "import pandas as pd\n",
    "\n",
    "from matplotlib import pyplot as plt \n",
    " \n",
    "%matplotlib inline"
   ]
  },
  {
   "cell_type": "markdown",
   "id": "6aa531ac",
   "metadata": {},
   "source": [
    "Read **chile.dta** as a dataframe called **chile**. (Hint: It is a dta file not csv.)"
   ]
  },
  {
   "cell_type": "code",
   "execution_count": 2,
   "id": "a1b27d79",
   "metadata": {},
   "outputs": [],
   "source": []
  },
  {
   "cell_type": "markdown",
   "id": "6f169aef",
   "metadata": {},
   "source": [
    "Please answer the following questions. Total points is 110. Good Luck!"
   ]
  },
  {
   "cell_type": "markdown",
   "id": "7ec3a8ef",
   "metadata": {},
   "source": [
    "**Q1** How many unique firms are included in this dataset? (10 pts)"
   ]
  },
  {
   "cell_type": "code",
   "execution_count": null,
   "id": "a341dcf3",
   "metadata": {},
   "outputs": [],
   "source": []
  },
  {
   "cell_type": "code",
   "execution_count": null,
   "id": "18e877fd",
   "metadata": {},
   "outputs": [],
   "source": []
  },
  {
   "cell_type": "markdown",
   "id": "fd0103ed",
   "metadata": {},
   "source": [
    "**Q2** What is the average duration for firms in this dataset? Also, what is the longest and shortest duration? (Hint: **transform** method would be useful.) (30 pts)"
   ]
  },
  {
   "cell_type": "code",
   "execution_count": null,
   "id": "2d029bbd",
   "metadata": {},
   "outputs": [],
   "source": []
  },
  {
   "cell_type": "code",
   "execution_count": null,
   "id": "bad7d083",
   "metadata": {},
   "outputs": [],
   "source": []
  },
  {
   "cell_type": "markdown",
   "id": "26de8fbc",
   "metadata": {},
   "source": [
    "**Q3** Show me the correlation matrix for gross output, labor, capital stock, energy inputs, material inputs, and investment. (20 pts, inclusion of irrelevant variables will only get half of the points.)"
   ]
  },
  {
   "cell_type": "code",
   "execution_count": null,
   "id": "af006ef0",
   "metadata": {},
   "outputs": [],
   "source": []
  },
  {
   "cell_type": "code",
   "execution_count": null,
   "id": "1fbaf0e1",
   "metadata": {},
   "outputs": [],
   "source": []
  },
  {
   "cell_type": "markdown",
   "id": "d1a7d769",
   "metadata": {},
   "source": [
    "**Q4** Calculating the industry average for each year, and plot time series plots for gross output and labor. (20 pts)"
   ]
  },
  {
   "cell_type": "code",
   "execution_count": null,
   "id": "1b5d75e8",
   "metadata": {},
   "outputs": [],
   "source": []
  },
  {
   "cell_type": "code",
   "execution_count": null,
   "id": "3693dec3",
   "metadata": {},
   "outputs": [],
   "source": []
  },
  {
   "cell_type": "markdown",
   "id": "f930844f",
   "metadata": {},
   "source": [
    "**Q5** Calculate the numbers of entries and exits for each year and draw time series plots. Ignore the 1979 for entry and 1996 for exit. (Hint: It would be helpful to define starting year and ending year for each firm.) (30 pts)"
   ]
  },
  {
   "cell_type": "code",
   "execution_count": null,
   "id": "e63821b7",
   "metadata": {},
   "outputs": [],
   "source": []
  },
  {
   "cell_type": "code",
   "execution_count": null,
   "id": "a0ebde1b",
   "metadata": {},
   "outputs": [],
   "source": []
  },
  {
   "cell_type": "code",
   "execution_count": null,
   "id": "4a4c053a",
   "metadata": {},
   "outputs": [],
   "source": []
  }
 ],
 "metadata": {
  "kernelspec": {
   "display_name": "Python 3 (ipykernel)",
   "language": "python",
   "name": "python3"
  },
  "language_info": {
   "codemirror_mode": {
    "name": "ipython",
    "version": 3
   },
   "file_extension": ".py",
   "mimetype": "text/x-python",
   "name": "python",
   "nbconvert_exporter": "python",
   "pygments_lexer": "ipython3",
   "version": "3.9.7"
  }
 },
 "nbformat": 4,
 "nbformat_minor": 5
}
