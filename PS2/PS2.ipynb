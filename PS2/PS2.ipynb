{
 "cells": [
  {
   "cell_type": "markdown",
   "id": "f8c19f6e",
   "metadata": {},
   "source": [
    "# Market Analysis: Problem Set 2"
   ]
  },
  {
   "cell_type": "markdown",
   "id": "a77e9648",
   "metadata": {},
   "source": [
    "**Submission guidelines:**  \n",
    "\n",
    "1. Submission requires downloading and saving your ipynb file as .html file with the filename, studentID-studentName. For example, 407510073-束良鴻.\n",
    "2. Removing all irrelevant code blocks.\n",
    "3. Email the html file to your TA. (E-mail address: p4896p4896@gmail.com)\n",
    "4. Failing to submit in a correct format will result in a reduction of **20 points**. \n",
    "5. Deadline: 4/14 Thur. 4 p.m. \n",
    "6. No late submission will be accepted. "
   ]
  },
  {
   "cell_type": "markdown",
   "id": "fefe1d1f",
   "metadata": {},
   "source": [
    "## Part 1"
   ]
  },
  {
   "cell_type": "markdown",
   "id": "040e5d70",
   "metadata": {},
   "source": [
    "In this question, you will be working on a dataset, **abtest.csv**, from an A/B test on an e-commerce website. Consumers are randomly assigned to old page or new page. The variable of interest, **converted**, is the binary outcome variable."
   ]
  },
  {
   "cell_type": "markdown",
   "id": "262f9538",
   "metadata": {},
   "source": [
    "**Q1** How many consumers see the new page? What is the conversion rate for new page? How many consumers see with the old page? What is the conversion rate for old page? (20 pts)"
   ]
  },
  {
   "cell_type": "code",
   "execution_count": null,
   "id": "6f0312ab",
   "metadata": {},
   "outputs": [],
   "source": [
    "import pandas as pd"
   ]
  },
  {
   "cell_type": "code",
   "execution_count": null,
   "id": "85a2984a",
   "metadata": {},
   "outputs": [],
   "source": []
  },
  {
   "cell_type": "code",
   "execution_count": null,
   "id": "99fd5ce2",
   "metadata": {},
   "outputs": [],
   "source": []
  },
  {
   "cell_type": "code",
   "execution_count": null,
   "id": "e6e6c737",
   "metadata": {},
   "outputs": [],
   "source": []
  },
  {
   "cell_type": "markdown",
   "id": "a3222da2",
   "metadata": {},
   "source": [
    "**Q2** What is the proportion of consumers converting regardless of the page they receive? (10 pts)"
   ]
  },
  {
   "cell_type": "code",
   "execution_count": null,
   "id": "b6bb5e1c",
   "metadata": {},
   "outputs": [],
   "source": []
  },
  {
   "cell_type": "code",
   "execution_count": null,
   "id": "01c9aab0",
   "metadata": {},
   "outputs": [],
   "source": []
  },
  {
   "cell_type": "markdown",
   "id": "5e13cee5",
   "metadata": {},
   "source": [
    "**Q3** Conduct a A/B test using two-sample test for proportion mentioned in class. Please state your null hypothesis, report associated z-statistics, and comment on your result. (20 pts)"
   ]
  },
  {
   "cell_type": "code",
   "execution_count": null,
   "id": "929b80f4",
   "metadata": {},
   "outputs": [],
   "source": []
  },
  {
   "cell_type": "code",
   "execution_count": null,
   "id": "144f1fd3",
   "metadata": {},
   "outputs": [],
   "source": []
  },
  {
   "cell_type": "code",
   "execution_count": null,
   "id": "0eae1863",
   "metadata": {},
   "outputs": [],
   "source": []
  },
  {
   "cell_type": "markdown",
   "id": "762efd17",
   "metadata": {},
   "source": [
    "## Part 2"
   ]
  },
  {
   "cell_type": "markdown",
   "id": "caa3d216",
   "metadata": {},
   "source": [
    "In class, we have shown the portfolio opportunity set for two assets, bond and equity. Now consider three assets case. Specifically, we have return list: **r = [0.08, 0.13, 0.20]** for stock 0, stock 1, and stock 1, standard deviation list: **s = [0.12, 0.2, 0.27]**, and finally list of correlation coefficient: **cc = [-0.6, -0.5, 0.2]**. Please note that the specific indext of **r** and **s** corresond to a particular stock. For **cc**, -0.6 is the correlation coefficient for stock 0 and 1, -0.5 is the correlation coefficient for stock 1 and 2, and 0.2 is the correlation coefficient for stock 1 and 3. Use these three list as inputs for a function called **port3(returns, stds, rho)**.\n"
   ]
  },
  {
   "cell_type": "markdown",
   "id": "2a6e79e7",
   "metadata": {},
   "source": [
    "**Q1** Plot 1000 portfolio return and risk combinations using different weights for the three stocks. (Hint: use numpy random function to create random weights.) (50 pts)"
   ]
  },
  {
   "cell_type": "code",
   "execution_count": null,
   "id": "bfc1f9ed",
   "metadata": {},
   "outputs": [],
   "source": [
    "import numpy as np\n",
    "\n",
    "import pandas as pd\n",
    "\n",
    "# Here are the lists. \n",
    "\n",
    "r = [0.08, 0.13, 0.20]\n",
    "s = [0.12, 0.2, 0.27]\n",
    "cc = [-0.6, -0.5, 0.2]"
   ]
  },
  {
   "cell_type": "code",
   "execution_count": null,
   "id": "f64055a5",
   "metadata": {},
   "outputs": [],
   "source": []
  },
  {
   "cell_type": "code",
   "execution_count": null,
   "id": "035a53a7",
   "metadata": {},
   "outputs": [],
   "source": []
  },
  {
   "cell_type": "markdown",
   "id": "1b0dcf62",
   "metadata": {},
   "source": [
    "**Q2** Plot 10000 portfolio return and risk combinations using different weights for the three stocks. What's the difference compared to Q1? (10 pts)"
   ]
  },
  {
   "cell_type": "code",
   "execution_count": null,
   "id": "20985bd3",
   "metadata": {},
   "outputs": [],
   "source": []
  },
  {
   "cell_type": "code",
   "execution_count": null,
   "id": "0f1205ca",
   "metadata": {},
   "outputs": [],
   "source": []
  },
  {
   "cell_type": "markdown",
   "id": "48221b0b",
   "metadata": {},
   "source": [
    "**Q3** Try other correlation coefficients. How does the scatterplot change? (10 pts)"
   ]
  },
  {
   "cell_type": "code",
   "execution_count": null,
   "id": "d31a3f2d",
   "metadata": {},
   "outputs": [],
   "source": []
  },
  {
   "cell_type": "code",
   "execution_count": null,
   "id": "be8eafc9",
   "metadata": {},
   "outputs": [],
   "source": []
  }
 ],
 "metadata": {
  "kernelspec": {
   "display_name": "Python 3 (ipykernel)",
   "language": "python",
   "name": "python3"
  },
  "language_info": {
   "codemirror_mode": {
    "name": "ipython",
    "version": 3
   },
   "file_extension": ".py",
   "mimetype": "text/x-python",
   "name": "python",
   "nbconvert_exporter": "python",
   "pygments_lexer": "ipython3",
   "version": "3.9.7"
  }
 },
 "nbformat": 4,
 "nbformat_minor": 5
}
