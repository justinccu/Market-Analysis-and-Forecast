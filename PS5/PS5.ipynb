{
 "cells": [
  {
   "cell_type": "markdown",
   "metadata": {},
   "source": [
    "# Market Analysis: Problem Set 5"
   ]
  },
  {
   "cell_type": "markdown",
   "metadata": {},
   "source": [
    "**Submission guidelines:**  \n",
    "\n",
    "1. Submission requires downloading and saving your ipynb file as .html file with the filename, studentID-studentName. For example, 407510073-束良鴻.\n",
    "2. Removing all irrelevant code blocks.\n",
    "3. Email the html file to your TA. (E-mail address: p4896p4896@gmail.com)\n",
    "4. Failing to submit in a correct format will result in a reduction of **20 points**. \n",
    "5. Deadline: **6/2 Thur. 3 p.m.**\n",
    "6. No late submission will be accepted. "
   ]
  },
  {
   "cell_type": "markdown",
   "metadata": {},
   "source": [
    "This problem ask you to web scrape CCU news views (查看次數) from https://www.ccu.edu.tw/news_list.php?id=1&page=1 (from the first page to the last), and show the summary statistics, including mean, standar deviation, min, and max.  "
   ]
  },
  {
   "cell_type": "markdown",
   "metadata": {},
   "source": [
    "Hints:\n",
    "1. For class name with space, refer to multiple classnames. (https://stackoverflow.com/questions/40305678/beautifulsoup-multiple-class-selector)\n",
    "2. Use **str.strip()** to remove irrelevant part of your strings. You need to look into the correct syntax. \n",
    "3. Use **int()** to convert string numbers into numerical format. "
   ]
  },
  {
   "cell_type": "code",
   "execution_count": null,
   "metadata": {
    "ExecuteTime": {
     "end_time": "2022-05-26T08:06:36.164133Z",
     "start_time": "2022-05-26T08:06:34.169738Z"
    }
   },
   "outputs": [],
   "source": []
  },
  {
   "cell_type": "code",
   "execution_count": null,
   "metadata": {
    "ExecuteTime": {
     "end_time": "2022-05-26T08:06:49.465329Z",
     "start_time": "2022-05-26T08:06:42.532120Z"
    }
   },
   "outputs": [],
   "source": []
  },
  {
   "cell_type": "code",
   "execution_count": null,
   "metadata": {
    "ExecuteTime": {
     "end_time": "2022-05-26T08:01:19.140121Z",
     "start_time": "2022-05-26T08:01:19.108011Z"
    }
   },
   "outputs": [],
   "source": []
  },
  {
   "cell_type": "code",
   "execution_count": null,
   "metadata": {
    "ExecuteTime": {
     "end_time": "2022-05-26T07:56:18.958982Z",
     "start_time": "2022-05-26T07:56:18.916481Z"
    }
   },
   "outputs": [],
   "source": []
  },
  {
   "cell_type": "code",
   "execution_count": null,
   "metadata": {},
   "outputs": [],
   "source": []
  }
 ],
 "metadata": {
  "kernelspec": {
   "display_name": "Python 3",
   "language": "python",
   "name": "python3"
  },
  "language_info": {
   "codemirror_mode": {
    "name": "ipython",
    "version": 3
   },
   "file_extension": ".py",
   "mimetype": "text/x-python",
   "name": "python",
   "nbconvert_exporter": "python",
   "pygments_lexer": "ipython3",
   "version": "3.8.3"
  },
  "toc": {
   "base_numbering": 1,
   "nav_menu": {},
   "number_sections": true,
   "sideBar": true,
   "skip_h1_title": false,
   "title_cell": "Table of Contents",
   "title_sidebar": "Contents",
   "toc_cell": false,
   "toc_position": {},
   "toc_section_display": true,
   "toc_window_display": false
  },
  "varInspector": {
   "cols": {
    "lenName": 16,
    "lenType": 16,
    "lenVar": 40
   },
   "kernels_config": {
    "python": {
     "delete_cmd_postfix": "",
     "delete_cmd_prefix": "del ",
     "library": "var_list.py",
     "varRefreshCmd": "print(var_dic_list())"
    },
    "r": {
     "delete_cmd_postfix": ") ",
     "delete_cmd_prefix": "rm(",
     "library": "var_list.r",
     "varRefreshCmd": "cat(var_dic_list()) "
    }
   },
   "types_to_exclude": [
    "module",
    "function",
    "builtin_function_or_method",
    "instance",
    "_Feature"
   ],
   "window_display": false
  }
 },
 "nbformat": 4,
 "nbformat_minor": 4
}
